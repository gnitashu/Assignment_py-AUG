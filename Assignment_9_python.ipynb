{
 "cells": [
  {
   "cell_type": "markdown",
   "id": "27734221-9bad-4263-b2db-deb2bdfee044",
   "metadata": {},
   "source": [
    "**Q-1**"
   ]
  },
  {
   "cell_type": "code",
   "execution_count": 5,
   "id": "df342736-524c-4f27-9572-e77cb5582b6f",
   "metadata": {},
   "outputs": [
    {
     "name": "stdin",
     "output_type": "stream",
     "text": [
      "Enter a length in cm:  100\n"
     ]
    },
    {
     "name": "stdout",
     "output_type": "stream",
     "text": [
      "100 cm is equal to 39.37 inches.\n"
     ]
    }
   ],
   "source": [
    "def measure():\n",
    "     centimetres = eval(input(\"Enter a length in cm: \"))\n",
    "    \n",
    "    if  centimetres < 0:\n",
    "        \n",
    "        print(\"Invalid entry. Length cannot be negative.\")\n",
    "        \n",
    "    else:\n",
    "        inches = round(centimetres / 2.54,2)\n",
    "        \n",
    "        print(f\"{centimetres} cm is equal to {inches} inches.\")\n",
    "\n",
    "measure()"
   ]
  },
  {
   "cell_type": "markdown",
   "id": "a3253005-f294-4c52-bc53-c70c32993f69",
   "metadata": {},
   "source": [
    "**Q-2**"
   ]
  },
  {
   "cell_type": "code",
   "execution_count": 11,
   "id": "efa55170-d9ff-49ed-b18d-de2169f84da2",
   "metadata": {},
   "outputs": [
    {
     "name": "stdin",
     "output_type": "stream",
     "text": [
      "Enter a temperature:  103\n",
      "Is the temperature in Celsius or Fahrenheit (C/F)?  F\n"
     ]
    },
    {
     "name": "stdout",
     "output_type": "stream",
     "text": [
      " 103.0   degrees Fahrenheit is =  39.44 degrees Celsius.\n"
     ]
    }
   ],
   "source": [
    "def temp_measure():\n",
    "\n",
    "    temperature = float(input(\"Enter a temperature: \"))\n",
    "\n",
    "    unit = input(\"Is the temperature in Celsius or Fahrenheit (C/F)? \")\n",
    "\n",
    "    if unit == 'C':\n",
    "        fahrenheit = round((temperature * 9/5) + 32,2)\n",
    "        print(f\" {temperature}   degrees Celsius is = {fahrenheit} degrees Fahrenheit.\")\n",
    "        \n",
    "    elif unit == 'F':\n",
    "        celsius = round((temperature - 32) * 5/9,2)\n",
    "        print(f\" {temperature}   degrees Fahrenheit is =  {celsius} degrees Celsius.\")\n",
    "        \n",
    "    else:\n",
    "        print(\"Invalid unit. Please enter 'C' for Celsius or 'F' for Fahrenheit.\")\n",
    "\n",
    "temp_measure()"
   ]
  },
  {
   "cell_type": "markdown",
   "id": "1ac617df-eeb7-4459-8809-78633ebbd583",
   "metadata": {},
   "source": [
    "**Q-3**"
   ]
  },
  {
   "cell_type": "code",
   "execution_count": 12,
   "id": "deedc8bc-8561-41d7-8b79-ff9eb1c874f6",
   "metadata": {},
   "outputs": [
    {
     "name": "stdin",
     "output_type": "stream",
     "text": [
      "Enter a temperature in Celsius:  39\n"
     ]
    },
    {
     "name": "stdout",
     "output_type": "stream",
     "text": [
      "The temperature is in the normal range.\n"
     ]
    }
   ],
   "source": [
    "def temp_degree():\n",
    "    \n",
    "    temperature = eval(input(\"Enter a temperature in Celsius: \"))\n",
    "\n",
    "    \n",
    "    if temperature < -273.15:\n",
    "        print(\"The temperature is invalid because it is below absolute zero.\")\n",
    "        \n",
    "    elif temperature == -273.15:\n",
    "        print(\"The temperature is absolute zero.\")\n",
    "        \n",
    "    elif temperature > -273.15 and temperature < 0:\n",
    "        print(\"The temperature is below freezing.\")\n",
    "        \n",
    "    elif temperature == 0:\n",
    "        print(\"The temperature is at the freezing point.\")\n",
    "        \n",
    "    elif temperature > 0 and temperature < 100:\n",
    "        print(\"The temperature is in the normal range.\")\n",
    "        \n",
    "    elif temperature == 100:\n",
    "        print(\"The temperature is at the boiling point.\")\n",
    "        \n",
    "    else: \n",
    "        print(\"The temperature is above the boiling point.\")\n",
    "\n",
    "\n",
    "temp_degree()\n"
   ]
  },
  {
   "cell_type": "markdown",
   "id": "4e122824-d4c3-4018-bfaf-45f657960feb",
   "metadata": {},
   "source": [
    "**Q-4**"
   ]
  },
  {
   "cell_type": "code",
   "execution_count": 13,
   "id": "0b2c209f-05fa-4bfc-ba55-d51cbf2075c3",
   "metadata": {},
   "outputs": [
    {
     "name": "stdin",
     "output_type": "stream",
     "text": [
      "Enter the number of credits you have taken:  55\n"
     ]
    },
    {
     "name": "stdout",
     "output_type": "stream",
     "text": [
      "You are a junior.\n"
     ]
    }
   ],
   "source": [
    "def cre_dit():\n",
    "\n",
    "    credits = eval(input(\"Enter the number of credits you have taken: \"))\n",
    "\n",
    "    if credits <= 23:\n",
    "        print(\"You are a freshman.\")\n",
    "        \n",
    "    elif 24 <= credits <= 53:\n",
    "        print(\"You are a sophomore.\")\n",
    "        \n",
    "    elif 54 <= credits <= 83:\n",
    "        print(\"You are a junior.\")\n",
    "        \n",
    "    else:\n",
    "        print(\"You are a senior.\")\n",
    "\n",
    "cre_dit()"
   ]
  },
  {
   "cell_type": "markdown",
   "id": "d07e349f-390e-496b-b20c-92d5a83319b2",
   "metadata": {},
   "source": [
    "**Q-5**"
   ]
  },
  {
   "cell_type": "code",
   "execution_count": 19,
   "id": "3372e52e-e1df-4e31-ae2e-afd810780169",
   "metadata": {},
   "outputs": [
    {
     "name": "stdin",
     "output_type": "stream",
     "text": [
      "Guess a number between 1 and 10:  9\n"
     ]
    },
    {
     "name": "stdout",
     "output_type": "stream",
     "text": [
      "Congratulations! You guessed the right number.\n"
     ]
    }
   ],
   "source": [
    "import random\n",
    "\n",
    "def number():\n",
    "    random_number = random.randint(1, 10)\n",
    "    \n",
    "    user_num = eval(input(\"Guess a number between 1 and 10: \"))\n",
    "\n",
    "    if user_num == random_number:\n",
    "        print(\"Congratulations! You guessed the right number.\")\n",
    "        \n",
    "    else:\n",
    "        print(f\"Sorry, the correct number was {random_number}.\")\n",
    "\n",
    "number()"
   ]
  },
  {
   "cell_type": "markdown",
   "id": "9789071c-70ef-4d58-a9c7-3eb239e0f92b",
   "metadata": {},
   "source": [
    "**Q-6**"
   ]
  },
  {
   "cell_type": "code",
   "execution_count": 1,
   "id": "9a11e673-b818-4ef7-91db-d10bf64363dd",
   "metadata": {},
   "outputs": [
    {
     "name": "stdin",
     "output_type": "stream",
     "text": [
      "Enter the number of items you want to buy:  10\n"
     ]
    },
    {
     "name": "stdout",
     "output_type": "stream",
     "text": [
      "The total cost for 10 items is $100.00.\n"
     ]
    }
   ],
   "source": [
    "\n",
    "def calculate_total_cost():\n",
    "    \n",
    "    num_items = eval(input(\"Enter the number of items you want to buy: \"))\n",
    "    \n",
    "    if num_items < 10:\n",
    "        cost_per_item = 12\n",
    "    elif 10 <= num_items <= 99:\n",
    "        cost_per_item = 10\n",
    "    else:\n",
    "        cost_per_item = 7\n",
    "    total_cost = num_items * cost_per_item\n",
    "    print(f\"The total cost for {num_items} items is $ {total_cost:}.\")\n",
    "\n",
    "\n",
    "calculate_total_cost()"
   ]
  },
  {
   "cell_type": "markdown",
   "id": "10447446-7276-492e-bf25-20838d9cd243",
   "metadata": {},
   "source": [
    "**Q-7**"
   ]
  },
  {
   "cell_type": "code",
   "execution_count": 1,
   "id": "0e4d9093-589f-41af-b438-1c709aecad3c",
   "metadata": {},
   "outputs": [
    {
     "name": "stdin",
     "output_type": "stream",
     "text": [
      "Enter the first number:  0.075\n",
      "Enter the second number:  0.065\n"
     ]
    },
    {
     "name": "stdout",
     "output_type": "stream",
     "text": [
      "Not close\n"
     ]
    }
   ],
   "source": [
    "def calculation():\n",
    "\n",
    "    num1 = eval(input(\"Enter the first number: \"))\n",
    "    \n",
    "    num2 = eval(input(\"Enter the second number: \"))\n",
    "    \n",
    "    difference = (num1 - num2)\n",
    "    \n",
    "    if difference <= 0.001:\n",
    "        print(\"Close\")\n",
    "    else:\n",
    "        print(\"Not close\")\n",
    "        \n",
    "\n",
    "calculation()"
   ]
  },
  {
   "cell_type": "markdown",
   "id": "83ffa31f-b308-4138-8044-881d6d4ad378",
   "metadata": {},
   "source": [
    "**Q-8**"
   ]
  },
  {
   "cell_type": "code",
   "execution_count": 3,
   "id": "aad1be96-ad6d-4df8-aa4a-1f2c9548b5c7",
   "metadata": {},
   "outputs": [
    {
     "name": "stdin",
     "output_type": "stream",
     "text": [
      "enter a year :  2000\n"
     ]
    },
    {
     "name": "stdout",
     "output_type": "stream",
     "text": [
      " 2000 is a leap year .\n"
     ]
    }
   ],
   "source": [
    "def leap_year():\n",
    "    year = eval(input(\"enter a year : \"))\n",
    "    if (year%4==0 and year%100!=0) or (year%400==0):\n",
    "        print(f\" {year} is a leap year .\")\n",
    "\n",
    "    else:\n",
    "        print(f\" {year} is not a leap year .\")\n",
    "\n",
    "leap_year()"
   ]
  },
  {
   "cell_type": "markdown",
   "id": "d14a77a2-88c5-4961-94cf-7f0529609ae3",
   "metadata": {},
   "source": [
    "**Q-9**"
   ]
  },
  {
   "cell_type": "code",
   "execution_count": 7,
   "id": "78bfd03d-baed-48cc-b9c6-6107000be9f2",
   "metadata": {},
   "outputs": [
    {
     "name": "stdin",
     "output_type": "stream",
     "text": [
      "Enter a number:  20\n"
     ]
    },
    {
     "name": "stdout",
     "output_type": "stream",
     "text": [
      "The divisors of 20 are:\n",
      "1\n",
      "2\n",
      "4\n",
      "5\n",
      "10\n",
      "20\n"
     ]
    }
   ],
   "source": [
    "def divisor():\n",
    "    num = eval(input(\"Enter a number: \"))\n",
    "    \n",
    "    print(f\"The divisors of {num} are:\")\n",
    "    for i in range(1, num + 1):\n",
    "        if num % i == 0:\n",
    "            print(i)\n",
    "\n",
    "divisor()"
   ]
  },
  {
   "cell_type": "markdown",
   "id": "b199f1b8-6a39-4bf1-888a-5d6d6cc7b6bd",
   "metadata": {},
   "source": [
    "**Q-10**"
   ]
  },
  {
   "cell_type": "code",
   "execution_count": 9,
   "id": "2df7efb3-aaf9-442a-85f6-1ef2ce8cbda3",
   "metadata": {},
   "outputs": [
    {
     "name": "stdin",
     "output_type": "stream",
     "text": [
      "Enter hour between 1 and 12:  1\n",
      "am (1) or pm (2)?  2\n",
      "How many hours ahead?  3\n"
     ]
    },
    {
     "ename": "NameError",
     "evalue": "name 'total_hours' is not defined",
     "output_type": "error",
     "traceback": [
      "\u001b[1;31m---------------------------------------------------------------------------\u001b[0m",
      "\u001b[1;31mNameError\u001b[0m                                 Traceback (most recent call last)",
      "Cell \u001b[1;32mIn[9], line 25\u001b[0m\n\u001b[0;32m     18\u001b[0m         new_period \u001b[38;5;241m=\u001b[39m \u001b[38;5;124m\"\u001b[39m\u001b[38;5;124mam\u001b[39m\u001b[38;5;124m\"\u001b[39m\n\u001b[0;32m     23\u001b[0m     \u001b[38;5;28mprint\u001b[39m(\u001b[38;5;124mf\u001b[39m\u001b[38;5;124m\"\u001b[39m\u001b[38;5;124mNew hour: \u001b[39m\u001b[38;5;132;01m{\u001b[39;00mnew_hour\u001b[38;5;132;01m}\u001b[39;00m\u001b[38;5;124m \u001b[39m\u001b[38;5;132;01m{\u001b[39;00mnew_period\u001b[38;5;132;01m}\u001b[39;00m\u001b[38;5;124m\"\u001b[39m)\n\u001b[1;32m---> 25\u001b[0m cal_time()\n",
      "Cell \u001b[1;32mIn[9], line 13\u001b[0m, in \u001b[0;36mcal_time\u001b[1;34m()\u001b[0m\n\u001b[0;32m     10\u001b[0m \u001b[38;5;28;01mif\u001b[39;00m new_hour \u001b[38;5;241m==\u001b[39m \u001b[38;5;241m0\u001b[39m:\n\u001b[0;32m     11\u001b[0m     new_hour \u001b[38;5;241m=\u001b[39m \u001b[38;5;241m12\u001b[39m\n\u001b[1;32m---> 13\u001b[0m period_change \u001b[38;5;241m=\u001b[39m total_hours  \u001b[38;5;241m/\u001b[39m\u001b[38;5;241m/\u001b[39m \u001b[38;5;241m12\u001b[39m\n\u001b[0;32m     15\u001b[0m \u001b[38;5;28;01mif\u001b[39;00m(period_change \u001b[38;5;241m%\u001b[39m\u001b[38;5;241m2\u001b[39m\u001b[38;5;241m==\u001b[39m\u001b[38;5;241m1\u001b[39m \u001b[38;5;129;01mand\u001b[39;00m period\u001b[38;5;241m==\u001b[39m\u001b[38;5;241m1\u001b[39m) \u001b[38;5;129;01mor\u001b[39;00m (period_change \u001b[38;5;241m%\u001b[39m\u001b[38;5;241m2\u001b[39m\u001b[38;5;241m==\u001b[39m\u001b[38;5;241m0\u001b[39m \u001b[38;5;129;01mand\u001b[39;00m period\u001b[38;5;241m==\u001b[39m\u001b[38;5;241m2\u001b[39m):\n\u001b[0;32m     16\u001b[0m     new_period\u001b[38;5;241m=\u001b[39m\u001b[38;5;124m\"\u001b[39m\u001b[38;5;124mpm\u001b[39m\u001b[38;5;124m\"\u001b[39m\n",
      "\u001b[1;31mNameError\u001b[0m: name 'total_hours' is not defined"
     ]
    }
   ],
   "source": [
    "def cal_time():\n",
    "    \n",
    "    hour = eval(input(\"Enter hour between 1 and 12: \"))\n",
    "    period = input(\"am (1) or pm (2)? \")\n",
    "    hours_ahead = eval(input(\"How many hours ahead? \"))\n",
    "\n",
    "    total_hour = hour + hours_ahead\n",
    "    \n",
    "    new_hour = total_hour % 12\n",
    "    if new_hour == 0:\n",
    "        new_hour = 12\n",
    "        \n",
    "    period_change = total_hours  // 12\n",
    "\n",
    "    if(period_change %2==1 and period==1) or (period_change %2==0 and period==2):\n",
    "        new_period=\"pm\"\n",
    "    else:\n",
    "        new_period = \"am\"\n",
    "        \n",
    "\n",
    "   \n",
    "\n",
    "    print(f\"New hour: {new_hour} {new_period}\")\n",
    "\n",
    "cal_time()\n"
   ]
  },
  {
   "cell_type": "code",
   "execution_count": null,
   "id": "db3bcbd7-2452-47cd-9e6d-9325544d2c0f",
   "metadata": {},
   "outputs": [],
   "source": []
  }
 ],
 "metadata": {
  "kernelspec": {
   "display_name": "Python 3 (ipykernel)",
   "language": "python",
   "name": "python3"
  },
  "language_info": {
   "codemirror_mode": {
    "name": "ipython",
    "version": 3
   },
   "file_extension": ".py",
   "mimetype": "text/x-python",
   "name": "python",
   "nbconvert_exporter": "python",
   "pygments_lexer": "ipython3",
   "version": "3.11.7"
  }
 },
 "nbformat": 4,
 "nbformat_minor": 5
}
