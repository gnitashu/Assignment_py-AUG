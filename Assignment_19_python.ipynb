{
 "cells": [
  {
   "cell_type": "markdown",
   "id": "6e899ba0-e186-4e28-860b-a3cd051e4696",
   "metadata": {},
   "source": [
    "**join path**"
   ]
  },
  {
   "cell_type": "code",
   "execution_count": null,
   "id": "03a6a3a3-4c17-4161-8d3b-55480a953548",
   "metadata": {},
   "outputs": [],
   "source": [
    "- join path using\n",
    "\n",
    "os.getcwd()+'\\\\'+folder_name   # working (Average)\n",
    "os.getcwd()+'/'+folder_name    # Not better\n",
    "os.getcwd()+f\"\\{folder_name}\"  # working (Hit)\n"
   ]
  },
  {
   "cell_type": "code",
   "execution_count": 4,
   "id": "052e9a84-9799-4b5d-8627-7f13540e5fd1",
   "metadata": {},
   "outputs": [
    {
     "data": {
      "text/plain": [
       "'C:\\\\Users\\\\AASAVARI BONDRE\\\\Naresh IT (DS & AI)\\\\python'"
      ]
     },
     "execution_count": 4,
     "metadata": {},
     "output_type": "execute_result"
    }
   ],
   "source": [
    "import os\n",
    "os.getcwd()"
   ]
  },
  {
   "cell_type": "code",
   "execution_count": 5,
   "id": "9508ecdb-74e7-4440-a9e8-081ddce784b9",
   "metadata": {},
   "outputs": [
    {
     "data": {
      "text/plain": [
       "'C:\\\\Users\\\\AASAVARI BONDRE\\\\Naresh IT (DS & AI)\\\\python\\\\File_handling'"
      ]
     },
     "execution_count": 5,
     "metadata": {},
     "output_type": "execute_result"
    }
   ],
   "source": [
    "folder_name='File_handling'\n",
    "os.getcwd()+f\"\\{folder_name}\""
   ]
  },
  {
   "cell_type": "code",
   "execution_count": 21,
   "id": "7f37aa19-9b7a-47c2-9a16-1ceb75ee7996",
   "metadata": {},
   "outputs": [
    {
     "name": "stdout",
     "output_type": "stream",
     "text": [
      "[WinError 183] Cannot create a file when that file already exists: 'C:\\\\Users\\\\AASAVARI BONDRE\\\\Naresh IT (DS & AI)\\\\python\\\\File_handling'\n"
     ]
    }
   ],
   "source": [
    "try:\n",
    "    current_path=os.getcwd()\n",
    "    folder_name='File_handling'\n",
    "    new_dir=os.path.join(current_path,folder_name)\n",
    "    os.makedirs(new_dir)\n",
    "\n",
    "except Exception as e:\n",
    "    print(e)"
   ]
  },
  {
   "cell_type": "code",
   "execution_count": 22,
   "id": "7d139487-4008-4455-9ba1-135340b062df",
   "metadata": {},
   "outputs": [],
   "source": [
    "file_name='session_1'\n",
    "path=os.path.join(new_dir,file_name)\n",
    "with open(path,mode='w') as file:\n",
    "    file.write('Hello please follow the checkpoints')"
   ]
  },
  {
   "cell_type": "code",
   "execution_count": 10,
   "id": "8e19f901-4d07-4f88-b766-517c9f3e2c4a",
   "metadata": {},
   "outputs": [
    {
     "name": "stdout",
     "output_type": "stream",
     "text": [
      "Hello please follow the checkpoints\n"
     ]
    }
   ],
   "source": [
    "with open(path,mode='r') as file:\n",
    "    data=file.read()\n",
    "print(data)"
   ]
  },
  {
   "cell_type": "code",
   "execution_count": 16,
   "id": "e2e7abb8-cc05-44cf-99d3-2281c47ec829",
   "metadata": {},
   "outputs": [],
   "source": [
    "with open(path,mode='a') as file:\n",
    "    file.write(\"'a'is used for append mode\")\n"
   ]
  },
  {
   "cell_type": "code",
   "execution_count": 18,
   "id": "848cd4b1-a7b6-4c43-b27a-23602c123b4f",
   "metadata": {},
   "outputs": [
    {
     "name": "stdout",
     "output_type": "stream",
     "text": [
      "[Errno 17] File exists: 'C:\\\\Users\\\\AASAVARI BONDRE\\\\Naresh IT (DS & AI)\\\\python\\\\outputs\\\\session_1'\n"
     ]
    }
   ],
   "source": [
    "try:\n",
    "    with open(path,mode='x') as file:\n",
    "        file.write(\"'x'is used for creating & writing  mode\")\n",
    "except Exception as e:\n",
    "    print(e)"
   ]
  },
  {
   "cell_type": "code",
   "execution_count": 19,
   "id": "ff016618-dc19-41b6-9eb9-7686bab61c81",
   "metadata": {},
   "outputs": [
    {
     "name": "stdout",
     "output_type": "stream",
     "text": [
      "Hello please follow the checkpoints'a'is used for append mode\n"
     ]
    }
   ],
   "source": [
    "with open(path,mode='r') as file:\n",
    "    data=file.read()\n",
    "print(data)"
   ]
  },
  {
   "cell_type": "code",
   "execution_count": null,
   "id": "1d548253-d2c3-4aaf-9d78-ecb7cf80cbf6",
   "metadata": {},
   "outputs": [],
   "source": []
  },
  {
   "cell_type": "code",
   "execution_count": null,
   "id": "37a0e39a-1c10-4906-95f7-373fdd4b6936",
   "metadata": {},
   "outputs": [],
   "source": []
  }
 ],
 "metadata": {
  "kernelspec": {
   "display_name": "Python 3 (ipykernel)",
   "language": "python",
   "name": "python3"
  },
  "language_info": {
   "codemirror_mode": {
    "name": "ipython",
    "version": 3
   },
   "file_extension": ".py",
   "mimetype": "text/x-python",
   "name": "python",
   "nbconvert_exporter": "python",
   "pygments_lexer": "ipython3",
   "version": "3.11.7"
  }
 },
 "nbformat": 4,
 "nbformat_minor": 5
}
