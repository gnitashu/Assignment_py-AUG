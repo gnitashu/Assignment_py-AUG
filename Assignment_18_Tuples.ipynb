{
 "cells": [
  {
   "cell_type": "markdown",
   "id": "cb00bce4-db3b-4ede-90e2-0a47e1b442c8",
   "metadata": {},
   "source": [
    "**Tuple**\n",
    "\n",
    "- Tuple are ordered , unchangeable , allow duplicate values.\n",
    "\n",
    "- tuple elements are index\n",
    "\n",
    "- tuples are **unchangeable** means :\n",
    "\n",
    "\n",
    "          - we cannot change,add or remove items after the tuple has been created."
   ]
  },
  {
   "cell_type": "markdown",
   "id": "3556a351-5397-4b22-a4a4-8b89b50f5331",
   "metadata": {},
   "source": [
    "**Representaion**"
   ]
  },
  {
   "cell_type": "code",
   "execution_count": 1,
   "id": "58a461d6-9eff-457a-9eff-9b39d329435b",
   "metadata": {},
   "outputs": [
    {
     "data": {
      "text/plain": [
       "('apple', 'banana', 'cherry')"
      ]
     },
     "execution_count": 1,
     "metadata": {},
     "output_type": "execute_result"
    }
   ],
   "source": [
    "tuple1 = (\"apple\",\"banana\",\"cherry\")\n",
    "tuple1"
   ]
  },
  {
   "cell_type": "markdown",
   "id": "f40ffe95-cea7-49e5-a1bf-72742db7fe77",
   "metadata": {},
   "source": [
    "**len**"
   ]
  },
  {
   "cell_type": "code",
   "execution_count": 3,
   "id": "7fbd1dd1-b1fb-4c17-8b43-6b32044975a1",
   "metadata": {},
   "outputs": [
    {
     "name": "stdout",
     "output_type": "stream",
     "text": [
      "3\n"
     ]
    }
   ],
   "source": [
    "tuple2 = tuple((\"how\",\"are\",\"you\"))\n",
    "print(len(tuple2))"
   ]
  },
  {
   "cell_type": "code",
   "execution_count": 5,
   "id": "f51eeca8-8f42-4cb1-ba2e-8077a7ebb200",
   "metadata": {},
   "outputs": [
    {
     "name": "stdout",
     "output_type": "stream",
     "text": [
      "5\n"
     ]
    }
   ],
   "source": [
    "tuple=tuple((\"how\",\"are\",\"you\",'learning ','python'))\n",
    "print(len(tuple))"
   ]
  },
  {
   "cell_type": "markdown",
   "id": "d17a0d45-51a3-489d-b00e-b8225c9ad1a3",
   "metadata": {},
   "source": [
    "**type**"
   ]
  },
  {
   "cell_type": "code",
   "execution_count": 6,
   "id": "8340dc26-af08-493a-8e8a-f82bf340ee4c",
   "metadata": {},
   "outputs": [
    {
     "name": "stdout",
     "output_type": "stream",
     "text": [
      "<class 'tuple'>\n"
     ]
    }
   ],
   "source": [
    "t1=('apple',)\n",
    "print(type(t1))"
   ]
  },
  {
   "cell_type": "code",
   "execution_count": 7,
   "id": "625e28e7-469b-4cce-9f2d-7f7f6a7d0a2b",
   "metadata": {},
   "outputs": [
    {
     "name": "stdout",
     "output_type": "stream",
     "text": [
      "<class 'str'>\n"
     ]
    }
   ],
   "source": [
    "t2=(\"apple\")\n",
    "print(type(t2))"
   ]
  },
  {
   "cell_type": "code",
   "execution_count": 10,
   "id": "6329c885-af63-404e-8fdd-577e58f5107f",
   "metadata": {},
   "outputs": [
    {
     "name": "stdout",
     "output_type": "stream",
     "text": [
      "('how', 'are', 'you')\n",
      "(1, 2, 3, 4)\n",
      "(True, False, True)\n"
     ]
    }
   ],
   "source": [
    "tuple1 = (\"how\",\"are\",\"you\")\n",
    "tuple2 = (1,2,3,4)\n",
    "tuple3 = (True,False,True)\n",
    "print(t1)\n",
    "print(t2)\n",
    "print(t3)"
   ]
  },
  {
   "cell_type": "code",
   "execution_count": 11,
   "id": "9e42da48-eaf7-46c2-a41f-8b29bc47320c",
   "metadata": {},
   "outputs": [
    {
     "data": {
      "text/plain": [
       "('how', 'are', 'you', 1, 2, 3, True)"
      ]
     },
     "execution_count": 11,
     "metadata": {},
     "output_type": "execute_result"
    }
   ],
   "source": [
    "tuple1 = (\"how\",\"are\",\"you\",1,2,3,True)\n",
    "tuple1"
   ]
  },
  {
   "cell_type": "markdown",
   "id": "75b69d59-cf10-44d8-bb73-07c702b1101a",
   "metadata": {},
   "source": [
    "**max & min**"
   ]
  },
  {
   "cell_type": "code",
   "execution_count": 12,
   "id": "27facdde-8fe1-4a3a-8ca8-375aa17459ed",
   "metadata": {},
   "outputs": [
    {
     "data": {
      "text/plain": [
       "'y'"
      ]
     },
     "execution_count": 12,
     "metadata": {},
     "output_type": "execute_result"
    }
   ],
   "source": [
    "tuple1='pyhton'\n",
    "max(tuple1)"
   ]
  },
  {
   "cell_type": "code",
   "execution_count": 13,
   "id": "872fbb68-fa3e-4c3a-bd43-d63c486ecabf",
   "metadata": {},
   "outputs": [
    {
     "data": {
      "text/plain": [
       "'h'"
      ]
     },
     "execution_count": 13,
     "metadata": {},
     "output_type": "execute_result"
    }
   ],
   "source": [
    "tuple1='pyhton'\n",
    "min(tuple1)"
   ]
  },
  {
   "cell_type": "code",
   "execution_count": 14,
   "id": "2e746480-7ee2-4e64-bcc6-1823490a49af",
   "metadata": {},
   "outputs": [
    {
     "data": {
      "text/plain": [
       "'v'"
      ]
     },
     "execution_count": 14,
     "metadata": {},
     "output_type": "execute_result"
    }
   ],
   "source": [
    "tuple3='aasavari'\n",
    "max(tuple3)\n"
   ]
  },
  {
   "cell_type": "markdown",
   "id": "dd099dfe-5ecf-49a7-97e2-1040bfd5408a",
   "metadata": {},
   "source": [
    "**sorted**"
   ]
  },
  {
   "cell_type": "code",
   "execution_count": 17,
   "id": "13c37799-a338-48dd-9f4c-15f0dff04e7e",
   "metadata": {},
   "outputs": [
    {
     "data": {
      "text/plain": [
       "['h', 'n', 'o', 'p', 't', 'y']"
      ]
     },
     "execution_count": 17,
     "metadata": {},
     "output_type": "execute_result"
    }
   ],
   "source": [
    "sorted('python') "
   ]
  },
  {
   "cell_type": "code",
   "execution_count": 18,
   "id": "1e8d857a-cacd-4f70-b83b-4b01ab42fc4b",
   "metadata": {},
   "outputs": [
    {
     "data": {
      "text/plain": [
       "['y', 't', 'p', 'o', 'n', 'h']"
      ]
     },
     "execution_count": 18,
     "metadata": {},
     "output_type": "execute_result"
    }
   ],
   "source": [
    "tuple1='python'\n",
    "sorted(tuple1,reverse=2)"
   ]
  },
  {
   "cell_type": "markdown",
   "id": "e336d7c4-a94f-4478-aaaa-15ff6c38129d",
   "metadata": {},
   "source": [
    "**reversed**"
   ]
  },
  {
   "cell_type": "code",
   "execution_count": 44,
   "id": "502c595f-7d1a-4f46-b45f-d2c31d580ab8",
   "metadata": {},
   "outputs": [
    {
     "name": "stdout",
     "output_type": "stream",
     "text": [
      "i\n",
      "r\n",
      "a\n",
      "v\n",
      "a\n",
      "s\n",
      "a\n",
      "a\n"
     ]
    }
   ],
   "source": [
    "tuple1=('aasavari')\n",
    "output=reversed(tuple1)\n",
    "for i in output:\n",
    "    print(i)"
   ]
  },
  {
   "cell_type": "code",
   "execution_count": 42,
   "id": "6d9d25f9-fbb7-4b1d-be82-9be809d7cfb5",
   "metadata": {},
   "outputs": [
    {
     "data": {
      "text/plain": [
       "[40, 30, 20, 2, 1]"
      ]
     },
     "execution_count": 42,
     "metadata": {},
     "output_type": "execute_result"
    }
   ],
   "source": [
    "sorted([1,20,2,40,30],reverse=True,)"
   ]
  },
  {
   "cell_type": "markdown",
   "id": "6aebb8f9-c471-40cc-8212-5153b608f4f9",
   "metadata": {},
   "source": [
    "**concatenation**"
   ]
  },
  {
   "cell_type": "code",
   "execution_count": 41,
   "id": "ac07e25a-42f1-422e-ab6b-be2cde122be2",
   "metadata": {},
   "outputs": [
    {
     "data": {
      "text/plain": [
       "('hello', 'bye')"
      ]
     },
     "execution_count": 41,
     "metadata": {},
     "output_type": "execute_result"
    }
   ],
   "source": [
    "tuple1=('hello',)\n",
    "tuple2= ('bye',)\n",
    "\n",
    "tuple1+tuple2"
   ]
  },
  {
   "cell_type": "code",
   "execution_count": 40,
   "id": "67544ae7-3804-41dc-bc4d-5652e48c0038",
   "metadata": {},
   "outputs": [
    {
     "data": {
      "text/plain": [
       "('hello', ' ', 'bye')"
      ]
     },
     "execution_count": 40,
     "metadata": {},
     "output_type": "execute_result"
    }
   ],
   "source": [
    "tuple1=('hello',)\n",
    "tuple2=(' ',)\n",
    "tuple3= ('bye',)\n",
    "\n",
    "tuple1+tuple2+tuple3"
   ]
  },
  {
   "cell_type": "markdown",
   "id": "023703af-0213-490a-959b-51a23e169af1",
   "metadata": {},
   "source": [
    "**Index**"
   ]
  },
  {
   "cell_type": "code",
   "execution_count": 38,
   "id": "82ad1981-df9f-4a02-ac09-096b542ff94f",
   "metadata": {},
   "outputs": [
    {
     "name": "stdout",
     "output_type": "stream",
     "text": [
      "how\n"
     ]
    }
   ],
   "source": [
    "tuple1 = ('heyy','how','are','you','aasavari',)\n",
    "print(tuple1[1])"
   ]
  },
  {
   "cell_type": "code",
   "execution_count": 39,
   "id": "3a09e057-3bf4-430c-8d4c-c26a4bd386dc",
   "metadata": {},
   "outputs": [
    {
     "name": "stdout",
     "output_type": "stream",
     "text": [
      "aasavari\n"
     ]
    }
   ],
   "source": [
    "tuple1 = ('heyy','how','are','you','aasavari',)\n",
    "print(tuple1[4])"
   ]
  },
  {
   "cell_type": "code",
   "execution_count": null,
   "id": "f5d517ad-29a0-4d8a-bff0-b2a529a88c1b",
   "metadata": {},
   "outputs": [],
   "source": [
    "-6 -5 -4 -3 -2 -1 ====> negative\n",
    " p  y  t  h  o  n\n",
    " 0  1  2  3  4  5 ====> positive"
   ]
  },
  {
   "cell_type": "code",
   "execution_count": 37,
   "id": "95931249-4dcd-4861-ac74-681d3c0f820a",
   "metadata": {},
   "outputs": [
    {
     "ename": "IndexError",
     "evalue": "tuple index out of range",
     "output_type": "error",
     "traceback": [
      "\u001b[1;31m---------------------------------------------------------------------------\u001b[0m",
      "\u001b[1;31mIndexError\u001b[0m                                Traceback (most recent call last)",
      "Cell \u001b[1;32mIn[37], line 2\u001b[0m\n\u001b[0;32m      1\u001b[0m t1\u001b[38;5;241m=\u001b[39m(\u001b[38;5;124m\"\u001b[39m\u001b[38;5;124mpython\u001b[39m\u001b[38;5;124m\"\u001b[39m,)\n\u001b[1;32m----> 2\u001b[0m t1(t1[\u001b[38;5;241m0\u001b[39m],t1[\u001b[38;5;241m1\u001b[39m],t1[\u001b[38;5;241m2\u001b[39m],t1[\u001b[38;5;241m3\u001b[39m],t1[\u001b[38;5;241m4\u001b[39m],t1[\u001b[38;5;241m5\u001b[39m])\n",
      "\u001b[1;31mIndexError\u001b[0m: tuple index out of range"
     ]
    }
   ],
   "source": [
    "t1=(\"python\",)\n",
    "t1(t1[0],t1[1],t1[2],t1[3],t1[4],t1[5])"
   ]
  },
  {
   "cell_type": "markdown",
   "id": "87b26f09-1500-4d99-b000-7a506ac48b80",
   "metadata": {},
   "source": [
    "**mutable & immutable**"
   ]
  },
  {
   "cell_type": "markdown",
   "id": "d3d27d0f-6837-4f79-b74d-e27e96cc6cea",
   "metadata": {},
   "source": [
    "- tuple are mutable by using list"
   ]
  },
  {
   "cell_type": "code",
   "execution_count": 50,
   "id": "8f4ba338-1a2b-463c-8f1b-46318c1622df",
   "metadata": {},
   "outputs": [
    {
     "ename": "TypeError",
     "evalue": "'tuple' object is not callable",
     "output_type": "error",
     "traceback": [
      "\u001b[1;31m---------------------------------------------------------------------------\u001b[0m",
      "\u001b[1;31mTypeError\u001b[0m                                 Traceback (most recent call last)",
      "Cell \u001b[1;32mIn[50], line 4\u001b[0m\n\u001b[0;32m      2\u001b[0m y \u001b[38;5;241m=\u001b[39m \u001b[38;5;28mlist\u001b[39m(x)\n\u001b[0;32m      3\u001b[0m y[\u001b[38;5;241m2\u001b[39m] \u001b[38;5;241m=\u001b[39m \u001b[38;5;124m\"\u001b[39m\u001b[38;5;124mdata science\u001b[39m\u001b[38;5;124m\"\u001b[39m\n\u001b[1;32m----> 4\u001b[0m x \u001b[38;5;241m=\u001b[39m \u001b[38;5;28mtuple\u001b[39m(y)\n\u001b[0;32m      6\u001b[0m \u001b[38;5;28mprint\u001b[39m(x)\n",
      "\u001b[1;31mTypeError\u001b[0m: 'tuple' object is not callable"
     ]
    }
   ],
   "source": [
    "x = (\"learning\",\"python\",\"naresh it\")\n",
    "y = list(x)\n",
    "y[2] = \"data science\"\n",
    "x = tuple(y)\n",
    "\n",
    "print(x)"
   ]
  },
  {
   "cell_type": "code",
   "execution_count": 53,
   "id": "67e836ac-cfd7-4054-867b-e3421e4a9c2a",
   "metadata": {},
   "outputs": [
    {
     "name": "stdout",
     "output_type": "stream",
     "text": [
      "0 -7\n",
      "the negaitive index of w is -7 \n",
      "1 -6\n",
      "the negaitive index of e is -6 \n",
      "2 -5\n",
      "the negaitive index of l is -5 \n",
      "3 -4\n",
      "the negaitive index of c is -4 \n",
      "4 -3\n",
      "the negaitive index of o is -3 \n",
      "5 -2\n",
      "the negaitive index of m is -2 \n",
      "6 -1\n",
      "the negaitive index of e is -1 \n"
     ]
    }
   ],
   "source": [
    "t1=('welcome')\n",
    "\n",
    "for i in range(len(t1)):\n",
    "    print(i,i-len(t1))\n",
    "    print(f\"the negaitive index of {t1[i]} is {i-len(t1)} \")\n"
   ]
  },
  {
   "cell_type": "code",
   "execution_count": 54,
   "id": "91654e76-bfb2-42db-9e74-1cf78eae9cff",
   "metadata": {},
   "outputs": [
    {
     "name": "stdout",
     "output_type": "stream",
     "text": [
      "the positive index of 0 and the negative index -7 for w \n",
      "the positive index of 1 and the negative index -6 for e \n",
      "the positive index of 2 and the negative index -5 for l \n",
      "the positive index of 3 and the negative index -4 for c \n",
      "the positive index of 4 and the negative index -3 for o \n",
      "the positive index of 5 and the negative index -2 for m \n",
      "the positive index of 6 and the negative index -1 for e \n"
     ]
    }
   ],
   "source": [
    "t1='welcome'\n",
    "for i in range(len(t1)):\n",
    "    \n",
    "    print(f\"the positive index of {i} and the negative index {i-len(t1)} for {t1[i]} \")\n"
   ]
  },
  {
   "cell_type": "code",
   "execution_count": 59,
   "id": "5112eddf-119b-46d6-9fb8-b7710a25af02",
   "metadata": {},
   "outputs": [
    {
     "data": {
      "text/plain": [
       "['__add__',\n",
       " '__class__',\n",
       " '__class_getitem__',\n",
       " '__contains__',\n",
       " '__delattr__',\n",
       " '__dir__',\n",
       " '__doc__',\n",
       " '__eq__',\n",
       " '__format__',\n",
       " '__ge__',\n",
       " '__getattribute__',\n",
       " '__getitem__',\n",
       " '__getnewargs__',\n",
       " '__getstate__',\n",
       " '__gt__',\n",
       " '__hash__',\n",
       " '__init__',\n",
       " '__init_subclass__',\n",
       " '__iter__',\n",
       " '__le__',\n",
       " '__len__',\n",
       " '__lt__',\n",
       " '__mul__',\n",
       " '__ne__',\n",
       " '__new__',\n",
       " '__reduce__',\n",
       " '__reduce_ex__',\n",
       " '__repr__',\n",
       " '__rmul__',\n",
       " '__setattr__',\n",
       " '__sizeof__',\n",
       " '__str__',\n",
       " '__subclasshook__',\n",
       " 'count',\n",
       " 'index']"
      ]
     },
     "execution_count": 59,
     "metadata": {},
     "output_type": "execute_result"
    }
   ],
   "source": [
    "dir(tuple)"
   ]
  },
  {
   "cell_type": "code",
   "execution_count": null,
   "id": "85b7f57f-d1a6-450c-90d0-375256b96aab",
   "metadata": {},
   "outputs": [],
   "source": [
    "'count'\n",
    " 'index'"
   ]
  },
  {
   "cell_type": "markdown",
   "id": "6d84b285-6965-4afc-bf36-0dbd72fec131",
   "metadata": {},
   "source": [
    "**count**"
   ]
  },
  {
   "cell_type": "code",
   "execution_count": 60,
   "id": "15d4c064-d115-4a76-9d0e-e42e8c4c0fe1",
   "metadata": {},
   "outputs": [
    {
     "data": {
      "text/plain": [
       "2"
      ]
     },
     "execution_count": 60,
     "metadata": {},
     "output_type": "execute_result"
    }
   ],
   "source": [
    "tuple1 = (1,2,3,40,5,6,40)\n",
    "tuple1.count(40)"
   ]
  },
  {
   "cell_type": "code",
   "execution_count": 79,
   "id": "348acb73-87e1-44a0-a369-ba3f5048a4fa",
   "metadata": {},
   "outputs": [
    {
     "data": {
      "text/plain": [
       "2"
      ]
     },
     "execution_count": 79,
     "metadata": {},
     "output_type": "execute_result"
    }
   ],
   "source": [
    "tuple1=('hai hai hai')\n",
    " # h   a   i     h  a  i     h   a    i\n",
    " # 0   1   2  3  4  5  6  7  8   9    10\n",
    "tuple1.count('a')\n",
    "tuple1.count('a',5)"
   ]
  },
  {
   "cell_type": "code",
   "execution_count": 63,
   "id": "fd963e1e-95b1-495a-a62f-079f44e8be5c",
   "metadata": {},
   "outputs": [],
   "source": [
    "tulpe=('hai how are you i am good')\n",
    "\n",
    "for i in range(len(tuple)) :\n",
    "    if tuple[i]=='a':\n",
    "        print(i,(tuple[i]))\n",
    "        print(f\" the index of letter a is {i} \")\n",
    "        "
   ]
  },
  {
   "cell_type": "code",
   "execution_count": 66,
   "id": "76647736-0881-43c0-aa61-d3bd922f3cdc",
   "metadata": {},
   "outputs": [
    {
     "data": {
      "text/plain": [
       "3"
      ]
     },
     "execution_count": 66,
     "metadata": {},
     "output_type": "execute_result"
    }
   ],
   "source": [
    "tuple = ('ola', 'ola', 'ola')\n",
    "tuple.count('ola')"
   ]
  },
  {
   "cell_type": "markdown",
   "id": "5ea535f2-6cea-44a7-a4ba-0c1dfc7be95d",
   "metadata": {},
   "source": [
    "**index**"
   ]
  },
  {
   "cell_type": "code",
   "execution_count": 70,
   "id": "29f671ae-b88d-45bb-8548-bae9824c0b7d",
   "metadata": {},
   "outputs": [
    {
     "data": {
      "text/plain": [
       "'ow are you '"
      ]
     },
     "execution_count": 70,
     "metadata": {},
     "output_type": "execute_result"
    }
   ],
   "source": [
    "tuple1=('hai how are you ')\n",
    "tuple1[5:]"
   ]
  },
  {
   "cell_type": "code",
   "execution_count": 72,
   "id": "74f201e0-ec96-42aa-9214-b03cbebca134",
   "metadata": {},
   "outputs": [
    {
     "data": {
      "text/plain": [
       "'ow are you'"
      ]
     },
     "execution_count": 72,
     "metadata": {},
     "output_type": "execute_result"
    }
   ],
   "source": [
    "tuple1=('hai how are you ')\n",
    "tuple1[5:-1]"
   ]
  },
  {
   "cell_type": "code",
   "execution_count": 73,
   "id": "e9f77409-c959-4c38-88e2-3e3075d8710d",
   "metadata": {},
   "outputs": [
    {
     "data": {
      "text/plain": [
       "''"
      ]
     },
     "execution_count": 73,
     "metadata": {},
     "output_type": "execute_result"
    }
   ],
   "source": [
    "tuple1=('hai how are you ')\n",
    "tuple1[-5:1]"
   ]
  },
  {
   "cell_type": "code",
   "execution_count": 75,
   "id": "ddb7c9b4-62db-41cb-9d93-00f959f1d49b",
   "metadata": {},
   "outputs": [
    {
     "data": {
      "text/plain": [
       "' how are you'"
      ]
     },
     "execution_count": 75,
     "metadata": {},
     "output_type": "execute_result"
    }
   ],
   "source": [
    "tuple1=('hai how are you ')\n",
    "tuple1[3:-1]"
   ]
  },
  {
   "cell_type": "markdown",
   "id": "0aad0fb8-b050-401d-bbdf-75e249bb234c",
   "metadata": {},
   "source": [
    "$str1[start:stop]$"
   ]
  },
  {
   "cell_type": "code",
   "execution_count": 77,
   "id": "45015e91-ea03-4e37-aa03-904fc073c005",
   "metadata": {},
   "outputs": [
    {
     "data": {
      "text/plain": [
       "'how are '"
      ]
     },
     "execution_count": 77,
     "metadata": {},
     "output_type": "execute_result"
    }
   ],
   "source": [
    "str1=('hai how are you ')\n",
    "str1[4:-4]"
   ]
  },
  {
   "cell_type": "code",
   "execution_count": null,
   "id": "780e7f65-12bd-4140-8928-a904653c20d1",
   "metadata": {},
   "outputs": [],
   "source": []
  },
  {
   "cell_type": "code",
   "execution_count": null,
   "id": "b973427a-8de6-45fa-996e-e8fcde782945",
   "metadata": {},
   "outputs": [],
   "source": []
  }
 ],
 "metadata": {
  "kernelspec": {
   "display_name": "Python 3 (ipykernel)",
   "language": "python",
   "name": "python3"
  },
  "language_info": {
   "codemirror_mode": {
    "name": "ipython",
    "version": 3
   },
   "file_extension": ".py",
   "mimetype": "text/x-python",
   "name": "python",
   "nbconvert_exporter": "python",
   "pygments_lexer": "ipython3",
   "version": "3.11.7"
  }
 },
 "nbformat": 4,
 "nbformat_minor": 5
}
