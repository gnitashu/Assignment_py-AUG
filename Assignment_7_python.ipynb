{
 "cells": [
  {
   "cell_type": "markdown",
   "id": "45c99391-f762-4e02-bee5-4630105dc7b8",
   "metadata": {},
   "source": [
    "**Loop**"
   ]
  },
  {
   "cell_type": "markdown",
   "id": "7425e60e-6d53-46b8-a67f-7e8ef376cabf",
   "metadata": {},
   "source": [
    "**Q-1**"
   ]
  },
  {
   "cell_type": "code",
   "execution_count": 1,
   "id": "cdaa2aea-55d9-4245-a5c4-adf9cde110ba",
   "metadata": {},
   "outputs": [
    {
     "name": "stdout",
     "output_type": "stream",
     "text": [
      " 71 is odd\n",
      " 30 is even \n",
      " 18 is even \n"
     ]
    }
   ],
   "source": [
    "import random\n",
    "\n",
    "for i in range(3):\n",
    "    num = random.randint(1,100)\n",
    "    if num%2==0:\n",
    "        print(f\" {num} is even \")\n",
    "    \n",
    "    else:\n",
    "        print(f\" {num} is odd\")\n"
   ]
  },
  {
   "cell_type": "markdown",
   "id": "00275350-2eeb-47ae-aac6-bc9426e351a2",
   "metadata": {},
   "source": [
    "**Q-2**"
   ]
  },
  {
   "cell_type": "code",
   "execution_count": 2,
   "id": "47ef910e-8cb4-4aef-85e3-80deb612397c",
   "metadata": {},
   "outputs": [
    {
     "name": "stdin",
     "output_type": "stream",
     "text": [
      " enter a number :  10\n"
     ]
    },
    {
     "name": "stdout",
     "output_type": "stream",
     "text": [
      "10 is even\n",
      "11 is odd\n",
      "12 is even\n",
      "13 is odd\n",
      "14 is even\n",
      "15 is odd\n",
      "16 is even\n",
      "17 is odd\n",
      "18 is even\n",
      "19 is odd\n"
     ]
    }
   ],
   "source": [
    "num = eval(input(\" enter a number : \"))\n",
    "for i in range(10,20):\n",
    "    if i%2==0:\n",
    "        print(f\"{i} is even\")\n",
    "    else:\n",
    "        print(f\"{i} is odd\")"
   ]
  },
  {
   "cell_type": "markdown",
   "id": "d788adb0-ddea-4259-9eab-25c7b2f39e02",
   "metadata": {},
   "source": [
    "**Q-3**"
   ]
  },
  {
   "cell_type": "code",
   "execution_count": 3,
   "id": "5e0a7a7a-3a94-48f7-b3bd-8115b12c70c1",
   "metadata": {},
   "outputs": [
    {
     "name": "stdout",
     "output_type": "stream",
     "text": [
      " The square of 20 is 400\n",
      " The square of 21 is 441\n",
      " The square of 22 is 484\n",
      " The square of 23 is 529\n",
      " The square of 24 is 576\n"
     ]
    }
   ],
   "source": [
    "for i in range(20,25):\n",
    "    print(f\" The square of {i} is {i*i}\")\n",
    "   \n"
   ]
  },
  {
   "cell_type": "markdown",
   "id": "f8169e3f-dfc3-4b0a-b6df-45167e15e8d1",
   "metadata": {},
   "source": [
    "**Q-4**"
   ]
  },
  {
   "cell_type": "code",
   "execution_count": 5,
   "id": "80d77ac1-b690-4d37-be93-75d25d657c28",
   "metadata": {},
   "outputs": [
    {
     "name": "stdin",
     "output_type": "stream",
     "text": [
      " enter a number :  4\n"
     ]
    },
    {
     "name": "stdout",
     "output_type": "stream",
     "text": [
      "the square of 4 is 16\n"
     ]
    },
    {
     "name": "stdin",
     "output_type": "stream",
     "text": [
      " enter a number :  2\n"
     ]
    },
    {
     "name": "stdout",
     "output_type": "stream",
     "text": [
      "the square of 2 is 4\n"
     ]
    },
    {
     "name": "stdin",
     "output_type": "stream",
     "text": [
      " enter a number :  8\n"
     ]
    },
    {
     "name": "stdout",
     "output_type": "stream",
     "text": [
      "the square of 8 is 64\n"
     ]
    }
   ],
   "source": [
    "for i in range(3):\n",
    "    num=eval(input(\" enter a number : \"))\n",
    "    print(f\"the square of {num} is {num*num}\")"
   ]
  },
  {
   "cell_type": "markdown",
   "id": "470b494d-031b-4a07-beeb-ab8250e884d7",
   "metadata": {},
   "source": [
    "**Q-5**"
   ]
  },
  {
   "cell_type": "code",
   "execution_count": 4,
   "id": "0acb1f18-6454-461e-8c50-3f57bb16b55c",
   "metadata": {},
   "outputs": [
    {
     "name": "stdout",
     "output_type": "stream",
     "text": [
      " 14 * 1 = 14\n",
      " 14 * 2 = 28\n",
      " 14 * 3 = 42\n",
      " 14 * 4 = 56\n",
      " 14 * 5 = 70\n",
      " 14 * 6 = 84\n",
      " 14 * 7 = 98\n",
      " 14 * 8 = 112\n",
      " 14 * 9 = 126\n",
      " 14 * 10 = 140\n"
     ]
    }
   ],
   "source": [
    "for i in range(1,11):\n",
    "    print (f\" 14 * {i} = {14*i}\")"
   ]
  },
  {
   "cell_type": "markdown",
   "id": "6d601bfd-e15c-41fd-b015-f4e511032d52",
   "metadata": {},
   "source": [
    "**Q-6**"
   ]
  },
  {
   "cell_type": "code",
   "execution_count": 6,
   "id": "8245496c-a8c3-4f54-85a4-2e409aee02d0",
   "metadata": {},
   "outputs": [
    {
     "name": "stdin",
     "output_type": "stream",
     "text": [
      "which number factor you want print  75\n"
     ]
    },
    {
     "name": "stdout",
     "output_type": "stream",
     "text": [
      "1 is the divisor of  75  True \n",
      "3 is the divisor of  75  True \n",
      "5 is the divisor of  75  True \n",
      "15 is the divisor of  75  True \n",
      "25 is the divisor of  75  True \n",
      "75 is the divisor of  75  True \n"
     ]
    }
   ],
   "source": [
    "num = eval(input(\"which number factor you want print \"))\n",
    "for i in range(1,num+1):\n",
    "    if num%i==0:\n",
    "        print(f\"{i} is the divisor of  {num}  {num%i==0} \")\n"
   ]
  },
  {
   "cell_type": "markdown",
   "id": "83cf67b9-e3c4-4fba-8490-8075dacb4855",
   "metadata": {},
   "source": [
    "**Q-7**"
   ]
  },
  {
   "cell_type": "code",
   "execution_count": 7,
   "id": "642793f3-6224-4240-a660-dcf43d58c1bc",
   "metadata": {},
   "outputs": [
    {
     "name": "stdout",
     "output_type": "stream",
     "text": [
      "0 + 1 = 0\n",
      "1 + 2 = 1\n",
      "3 + 3 = 3\n",
      "6 + 4 = 6\n",
      "10 + 5 = 10\n",
      "15 + 6 = 15\n",
      "21 + 7 = 21\n",
      "28 + 8 = 28\n",
      "36 + 9 = 36\n",
      "45 + 10 = 45\n"
     ]
    }
   ],
   "source": [
    "summ=0\n",
    "for i in range(1,11):\n",
    "    print(f\"{summ} + {i} = {summ}\")\n",
    "    summ=summ+i\n",
    "    \n",
    "    \n"
   ]
  },
  {
   "cell_type": "markdown",
   "id": "83ce79e7-2c74-474c-84d9-d8931d21854b",
   "metadata": {},
   "source": [
    "**Q-8**"
   ]
  },
  {
   "cell_type": "code",
   "execution_count": 8,
   "id": "5a99ab21-2f0d-418d-9c18-024322675b41",
   "metadata": {},
   "outputs": [
    {
     "name": "stdin",
     "output_type": "stream",
     "text": [
      "which number factor you want print  75\n"
     ]
    },
    {
     "name": "stdout",
     "output_type": "stream",
     "text": [
      "1 is the divisor of  75  True \n",
      "3 is the divisor of  75  True \n",
      "5 is the divisor of  75  True \n",
      "15 is the divisor of  75  True \n",
      "25 is the divisor of  75  True \n",
      "75 is the divisor of  75  True \n"
     ]
    }
   ],
   "source": [
    "num = eval(input(\"which number factor you want print \"))\n",
    "for i in range(1,num+1):\n",
    "    if num%i==0:\n",
    "        print(f\"{i} is the divisor of  {num}  {num%i==0} \")\n"
   ]
  },
  {
   "cell_type": "markdown",
   "id": "f90b9447-14cb-4d9f-8bf4-b4b44f432b1d",
   "metadata": {},
   "source": [
    "**Q-9**"
   ]
  },
  {
   "cell_type": "code",
   "execution_count": 10,
   "id": "9979ae54-db37-4f1f-b57a-de7d46aecd0e",
   "metadata": {},
   "outputs": [
    {
     "name": "stdin",
     "output_type": "stream",
     "text": [
      "enter a number between 1 to 10 8\n"
     ]
    },
    {
     "name": "stdout",
     "output_type": "stream",
     "text": [
      "Won\n"
     ]
    },
    {
     "name": "stdin",
     "output_type": "stream",
     "text": [
      "enter a number between 1 to 10 2\n"
     ]
    },
    {
     "name": "stdout",
     "output_type": "stream",
     "text": [
      "fail\n"
     ]
    },
    {
     "name": "stdin",
     "output_type": "stream",
     "text": [
      "enter a number between 1 to 10 2\n"
     ]
    },
    {
     "name": "stdout",
     "output_type": "stream",
     "text": [
      "fail\n"
     ]
    }
   ],
   "source": [
    "import random\n",
    "for i in range(3):\n",
    "    num1 = random.randint(1,10)\n",
    "    num2 = eval(input(\"enter a number between 1 to 10\"))\n",
    "    if num1==num2:\n",
    "        print(\"Won\")\n",
    "    \n",
    "    else:\n",
    "        print(\"fail\")\n",
    "    \n",
    "    "
   ]
  },
  {
   "cell_type": "markdown",
   "id": "9e6ac964-4e79-4d6d-93a1-5b2774c4667f",
   "metadata": {},
   "source": [
    "**Q-10**"
   ]
  },
  {
   "cell_type": "code",
   "execution_count": 11,
   "id": "d5341abd-86a6-4c70-a087-66e3825c8a0d",
   "metadata": {},
   "outputs": [
    {
     "name": "stdout",
     "output_type": "stream",
     "text": [
      " 36 is even \n",
      " 34 is even \n",
      " 60 is even \n",
      " 80 is even \n",
      " 7 is odd\n",
      " Even count = 4\n",
      " odd count = 1\n"
     ]
    }
   ],
   "source": [
    "import random\n",
    "even_count = 0\n",
    "odd_count=0\n",
    "\n",
    "for i in range(5):\n",
    "    num = random.randint(1,100)\n",
    "    if num%2==0:\n",
    "        print(f\" {num} is even \")\n",
    "        even_count=even_count+1\n",
    "        \n",
    "    \n",
    "    else:\n",
    "        print(f\" {num} is odd\")\n",
    "        odd_count=odd_count+1\n",
    "\n",
    "print(f\" Even count = {even_count}\")\n",
    "print(f\" odd count = {odd_count}\")\n"
   ]
  },
  {
   "cell_type": "markdown",
   "id": "677132d2-ac1d-4ad9-bc92-ab2d5ea1bb15",
   "metadata": {},
   "source": [
    "**Q-12**"
   ]
  },
  {
   "cell_type": "code",
   "execution_count": 12,
   "id": "b8549f01-8906-4038-b050-8defe860f5f2",
   "metadata": {},
   "outputs": [
    {
     "name": "stdout",
     "output_type": "stream",
     "text": [
      " 9 is odd\n",
      " 92 is even \n",
      " 91 is odd\n",
      " 12 is even \n",
      " 99 is odd\n",
      " Even count = 2\n",
      " odd count = 3\n",
      " Even sum = 104\n",
      " odd sum = 199\n"
     ]
    }
   ],
   "source": [
    "import random\n",
    "even_count = 0\n",
    "even_sum=0\n",
    "odd_count=0\n",
    "odd_sum=0\n",
    "\n",
    "for i in range(5):\n",
    "    num = random.randint(1,100)\n",
    "    if num%2==0:\n",
    "        print(f\" {num} is even \")\n",
    "        even_count=even_count+1\n",
    "        even_sum=even_sum+num\n",
    "    \n",
    "    else:\n",
    "        print(f\" {num} is odd\")\n",
    "        odd_count=odd_count+1\n",
    "        odd_sum=odd_sum+num\n",
    "\n",
    "print(f\" Even count = {even_count}\")\n",
    "print(f\" odd count = {odd_count}\")\n",
    "\n",
    "print(f\" Even sum = {even_sum}\")\n",
    "print(f\" odd sum = {odd_sum}\")\n"
   ]
  },
  {
   "cell_type": "code",
   "execution_count": null,
   "id": "48b5b087-e8d7-4ce1-a9df-e9a7e9b57799",
   "metadata": {},
   "outputs": [],
   "source": []
  }
 ],
 "metadata": {
  "kernelspec": {
   "display_name": "Python 3 (ipykernel)",
   "language": "python",
   "name": "python3"
  },
  "language_info": {
   "codemirror_mode": {
    "name": "ipython",
    "version": 3
   },
   "file_extension": ".py",
   "mimetype": "text/x-python",
   "name": "python",
   "nbconvert_exporter": "python",
   "pygments_lexer": "ipython3",
   "version": "3.11.7"
  }
 },
 "nbformat": 4,
 "nbformat_minor": 5
}
